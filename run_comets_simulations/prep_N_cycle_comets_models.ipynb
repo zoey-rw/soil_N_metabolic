{
 "cells": [
  {
   "cell_type": "markdown",
   "metadata": {},
   "source": [
    "Script to read in the SBML v2 models and save as comets "
   ]
  },
  {
   "cell_type": "code",
   "execution_count": 1,
   "metadata": {},
   "outputs": [],
   "source": [
    "import cobra\n",
    "import cobra.test # for the ijo1366 model\n",
    "import sys\n",
    "import copy\n",
    "import numpy as np\n",
    "import pandas as pd\n",
    "import cometspy as c\n",
    "import os\n",
    "\n",
    "os.environ['COMETS_HOME'] = '/projectnb2/talbot-lab-data/zrwerbin/interactions/comets_2.10.5_linux'\n",
    "os.environ['JAVA_HOME'] = '/share/pkg.7/java/12.0.1/install'\n",
    "os.environ['PATH'] = '/projectnb2/talbot-lab-data/zrwerbin/venvs/comets/bin:/share/pkg.7/gurobi/9.1.1/install/bin:/share/pkg.7/python3/3.8.10/install/bin:/share/pkg.7/java/12.0.1/install/bin:/projectnb/talbot-lab-data/zrwerbin/temporal_forecast/data_construction/microbe/16S_copy_num_normalize/copy_num_normalize:/usr/java/default/jre/bin:/usr/java/default/bin:/usr/lib64/qt-3.3/bin:/usr/local/bin:/usr/bin:/usr/local/sbin:/usr/sbin:/sbin:/opt/dell/srvadmin/bin:/bin:/projectnb2/talbot-lab-data/zrwerbin/interactions/comets_2.10.5_linux'\n",
    "model_dir = \"/projectnb2/talbot-lab-data/metabolic_models/curated_models/\" # model location\n",
    "\n",
    "from IPython.core.interactiveshell import InteractiveShell\n",
    "InteractiveShell.ast_node_interactivity = \"all\""
   ]
  },
  {
   "cell_type": "code",
   "execution_count": 2,
   "metadata": {},
   "outputs": [
    {
     "name": "stdout",
     "output_type": "stream",
     "text": [
      "Using license file /usr/local/gurobi/gurobi.lic\n",
      "Set parameter TokenServer to value sccsvc\n"
     ]
    },
    {
     "name": "stderr",
     "output_type": "stream",
     "text": [
      "Adding exchange reaction EX_MNXM107@BOUNDARY with default bounds for boundary metabolite: MNXM107@BOUNDARY.\n",
      "Adding exchange reaction EX_MNXM1@BOUNDARY with default bounds for boundary metabolite: MNXM1@BOUNDARY.\n",
      "Adding exchange reaction EX_MNXM107@BOUNDARY with default bounds for boundary metabolite: MNXM107@BOUNDARY.\n",
      "Adding exchange reaction EX_MNXM1@BOUNDARY with default bounds for boundary metabolite: MNXM1@BOUNDARY.\n",
      "Adding exchange reaction EX_MNXM107@BOUNDARY with default bounds for boundary metabolite: MNXM107@BOUNDARY.\n",
      "Adding exchange reaction EX_MNXM1@BOUNDARY with default bounds for boundary metabolite: MNXM1@BOUNDARY.\n",
      "Adding exchange reaction EX_MNXM107@BOUNDARY with default bounds for boundary metabolite: MNXM107@BOUNDARY.\n",
      "Adding exchange reaction EX_MNXM1@BOUNDARY with default bounds for boundary metabolite: MNXM1@BOUNDARY.\n"
     ]
    }
   ],
   "source": [
    "# N cycler models from Octavio-Perez 2015\n",
    "#NEU = cobra.io.read_sbml_model(model_dir + '/N_cycle/metanet_cobra_sbml/NEU1.COBRA-sbml3.xml')\n",
    "#NET = cobra.io.read_sbml_model(model_dir + '/N_cycle/metanet_cobra_sbml/NET1.COBRA-sbml3.xml')\n",
    "#NMU = cobra.io.read_sbml_model(model_dir + '/N_cycle/metanet_cobra_sbml/NMU1.COBRA-sbml3.xml')\n",
    "#NOC = cobra.io.read_sbml_model(model_dir + '/N_cycle/metanet_cobra_sbml/NOC1.COBRA-sbml3.xml')\n",
    "NDE = cobra.io.read_sbml_model(model_dir + '/N_cycle/metanet_cobra_sbml/NDE5.COBRA-sbml3.xml')\n",
    "#NWI = cobra.io.read_sbml_model(model_dir + '/N_cycle/metanet_cobra_sbml/NWI1.COBRA-sbml3.xml')\n",
    "#NHA = cobra.io.read_sbml_model(model_dir + '/N_cycle/metanet_cobra_sbml/NHA1.COBRA-sbml3.xml')\n",
    "#NSP = cobra.io.read_sbml_model(model_dir + '/N_cycle/metanet_cobra_sbml/NSP1.COBRA-sbml3.xml')\n",
    "\n",
    "# N cycler models from Octavio-Perez 2015\n",
    "NEU = cobra.io.read_sbml_model(model_dir + '/N_cycle/metanet_cobra_sbml/NEU_v2.COBRA-sbml3.xml')\n",
    "NET = cobra.io.read_sbml_model(model_dir + '/N_cycle/metanet_cobra_sbml/NET_v2.COBRA-sbml3.xml')\n",
    "NMU = cobra.io.read_sbml_model(model_dir + '/N_cycle/metanet_cobra_sbml/NMU_v2.COBRA-sbml3.xml')\n",
    "NOC = cobra.io.read_sbml_model(model_dir + '/N_cycle/metanet_cobra_sbml/NOC_v2.COBRA-sbml3.xml')\n",
    "#NDE = cobra.io.read_sbml_model(model_dir + '/N_cycle/metanet_cobra_sbml/NDE_v2.COBRA-sbml3.xml')\n",
    "NWI = cobra.io.read_sbml_model(model_dir + '/N_cycle/metanet_cobra_sbml/NWI_v2.COBRA-sbml3.xml')\n",
    "NHA = cobra.io.read_sbml_model(model_dir + '/N_cycle/metanet_cobra_sbml/NHA_v2.COBRA-sbml3.xml')\n",
    "NSP = cobra.io.read_sbml_model(model_dir + '/N_cycle/metanet_cobra_sbml/NSP_v2.COBRA-sbml3.xml')\n",
    "\n",
    "\n",
    "## Indimesh reduced models, converted to SBML\n",
    "#iPB = cobra.io.read_sbml_model('/projectnb2/talbot-lab-data/zrwerbin/interactions/models/sbml/iPB890_rGEM_v3.xml')\n",
    "#iJO = cobra.io.read_sbml_model('/projectnb2/talbot-lab-data/zrwerbin/interactions/models/sbml/iJO1366_rGEM_v3.xml')\n",
    "#iRR = cobra.io.read_sbml_model('/projectnb2/talbot-lab-data/zrwerbin/interactions/models/sbml/iRR1083_rGEM_v3.xml')\n",
    "#iJN = cobra.io.read_sbml_model('/projectnb2/talbot-lab-data/zrwerbin/interactions/models/sbml/iJN746_rGEM_v3.xml')"
   ]
  },
  {
   "cell_type": "code",
   "execution_count": 47,
   "metadata": {},
   "outputs": [
    {
     "data": {
      "text/plain": [
       "[<Reaction EX_MNXM107@BOUNDARY at 0x2b28bff5c550>,\n",
       " <Reaction EX_MNXM1@BOUNDARY at 0x2b28bff78130>,\n",
       " <Reaction mnxr02c19b at 0x2b28bff7be20>,\n",
       " <Reaction mnxr02c3b at 0x2b28bff7b880>,\n",
       " <Reaction mnxr102090c19b at 0x2b28bff7be50>,\n",
       " <Reaction mnxr137261c19b at 0x2b28bff7e9d0>,\n",
       " <Reaction mnxr145749c19b at 0x2b28bff7e6d0>,\n",
       " <Reaction mnxr146072c19b at 0x2b28bff7ebb0>,\n",
       " <Reaction mnxr191149c19b at 0x2b28bff7efa0>,\n",
       " <Reaction mnxr96810c19b at 0x2b28bff7e9a0>,\n",
       " <Reaction mnxr98641c19b at 0x2b28bff8a7c0>,\n",
       " <Reaction reac13E8B99E at 0x2b28bff8ae20>]"
      ]
     },
     "execution_count": 47,
     "metadata": {},
     "output_type": "execute_result"
    },
    {
     "data": {
      "text/html": [
       "\n",
       "        <table>\n",
       "            <tr>\n",
       "                <td><strong>Reaction identifier</strong></td><td>reac13E8B99E</td>\n",
       "            </tr><tr>\n",
       "                <td><strong>Name</strong></td><td></td>\n",
       "            </tr><tr>\n",
       "                <td><strong>Memory address</strong></td>\n",
       "                <td>0x02b28bff8ae20</td>\n",
       "            </tr><tr>\n",
       "                <td><strong>Stoichiometry</strong></td>\n",
       "                <td>\n",
       "                    <p style='text-align:right'>nh2oh@MNXC19 <=></p>\n",
       "                    <p style='text-align:right'>nh2oh <=></p>\n",
       "                </td>\n",
       "            </tr><tr>\n",
       "                <td><strong>GPR</strong></td><td></td>\n",
       "            </tr><tr>\n",
       "                <td><strong>Lower bound</strong></td><td>-1000.0</td>\n",
       "            </tr><tr>\n",
       "                <td><strong>Upper bound</strong></td><td>1000.0</td>\n",
       "            </tr>\n",
       "        </table>\n",
       "        "
      ],
      "text/plain": [
       "<Reaction reac13E8B99E at 0x2b28bff8ae20>"
      ]
     },
     "execution_count": 47,
     "metadata": {},
     "output_type": "execute_result"
    }
   ],
   "source": [
    "#NEU = cobra.io.read_sbml_model(model_dir + '/N_cycle/metanet_cobra_sbml/NEU_v2.COBRA-sbml3.xml')\n",
    "\n",
    "#NSP.metabolites.get_by_name(\"nitrate\")\n",
    "#NEU.metabolites\n",
    "\n",
    "NEU.boundary\n",
    "\n",
    "NEU.reactions.get_by_id(\"reac13E8B99E\")\n",
    "#NEU.metabolites.get_by_id(\"MNXM732398@MNXC19\")"
   ]
  },
  {
   "cell_type": "code",
   "execution_count": 43,
   "metadata": {},
   "outputs": [
    {
     "name": "stdout",
     "output_type": "stream",
     "text": [
      "exchanges [<Reaction EX_MNXM107@BOUNDARY at 0x2b28bff5c550>, <Reaction EX_MNXM1@BOUNDARY at 0x2b28bff78130>, <Reaction mnxr02c19b at 0x2b28bff7be20>, <Reaction mnxr02c3b at 0x2b28bff7b880>, <Reaction mnxr102090c19b at 0x2b28bff7be50>, <Reaction mnxr137261c19b at 0x2b28bff7e9d0>, <Reaction mnxr145749c19b at 0x2b28bff7e6d0>, <Reaction mnxr146072c19b at 0x2b28bff7ebb0>, <Reaction mnxr191149c19b at 0x2b28bff7efa0>, <Reaction mnxr96810c19b at 0x2b28bff7e9a0>, <Reaction mnxr98641c19b at 0x2b28bff8a7c0>, <Reaction reac0FA94516 at 0x2b28bff8a1f0>, <Reaction reac13E8B99E at 0x2b28bff8ae20>, <Reaction reacF3BB71C2 at 0x2b28bffa1c10>]\n"
     ]
    }
   ],
   "source": [
    "model.add_boundary(model.metabolites.get_by_id(\"co2_e\"), type=\"exchange\")\n",
    "model.add_boundary(model.metabolites.get_by_id(\"co2_e\"), type=\"exchange\")\n",
    "model.add_boundary(model.metabolites.get_by_id(\"co2_e\"), type=\"exchange\")\n",
    "model.add_boundary(model.metabolites.get_by_id(\"co2_e\"), type=\"exchange\")\n",
    "model.add_boundary(model.metabolites.get_by_id(\"co2_e\"), type=\"exchange\")\n",
    "model.add_boundary(model.metabolites.get_by_id(\"co2_e\"), type=\"exchange\")\n",
    "\n",
    "\n",
    "print(\"exchanges\", NEU.exchanges)\n"
   ]
  },
  {
   "cell_type": "code",
   "execution_count": 41,
   "metadata": {},
   "outputs": [],
   "source": [
    "NDE = cobra.io.read_sbml_model(model_dir + '/N_cycle/metanet_cobra_sbml/NDE_v3.COBRA-sbml3.xml')"
   ]
  },
  {
   "cell_type": "code",
   "execution_count": 42,
   "metadata": {},
   "outputs": [
    {
     "data": {
      "text/html": [
       "<h3>Objective</h3><p>1.0 reacF22BFD37 = 0.0</p><h4>Uptake</h4><table border=\"1\" class=\"dataframe\">\n",
       "  <thead>\n",
       "    <tr style=\"text-align: right;\">\n",
       "      <th>Metabolite</th>\n",
       "      <th>Reaction</th>\n",
       "      <th>Flux</th>\n",
       "      <th>C-Number</th>\n",
       "      <th>C-Flux</th>\n",
       "    </tr>\n",
       "  </thead>\n",
       "  <tbody>\n",
       "  </tbody>\n",
       "</table><h4>Secretion</h4><table border=\"1\" class=\"dataframe\">\n",
       "  <thead>\n",
       "    <tr style=\"text-align: right;\">\n",
       "      <th>Metabolite</th>\n",
       "      <th>Reaction</th>\n",
       "      <th>Flux</th>\n",
       "      <th>C-Number</th>\n",
       "      <th>C-Flux</th>\n",
       "    </tr>\n",
       "  </thead>\n",
       "  <tbody>\n",
       "  </tbody>\n",
       "</table>"
      ],
      "text/plain": [
       "<cobra.summary.model_summary.ModelSummary at 0x2b28bd92efd0>"
      ]
     },
     "execution_count": 42,
     "metadata": {},
     "output_type": "execute_result"
    }
   ],
   "source": [
    "NDE.summary()"
   ]
  },
  {
   "cell_type": "markdown",
   "metadata": {},
   "source": [
    "Set maximum growth rate of two Nitrosomonas species based on N. eutropha doubling time (6.38 h) (Sabale et al. 2021),  converted to growth rate is 2.6 per day\n"
   ]
  },
  {
   "cell_type": "code",
   "execution_count": 24,
   "metadata": {
    "scrolled": true
   },
   "outputs": [
    {
     "data": {
      "text/html": [
       "<h3>Objective</h3><p>1.0 reac7F048F7A = 3.6424617796485452</p><h4>Uptake</h4><table border=\"1\" class=\"dataframe\">\n",
       "  <thead>\n",
       "    <tr style=\"text-align: right;\">\n",
       "      <th>Metabolite</th>\n",
       "      <th>Reaction</th>\n",
       "      <th>Flux</th>\n",
       "      <th>C-Number</th>\n",
       "      <th>C-Flux</th>\n",
       "    </tr>\n",
       "  </thead>\n",
       "  <tbody>\n",
       "    <tr>\n",
       "      <td>MNXM735438@MNXC19</td>\n",
       "      <td>mnxr102090c19b</td>\n",
       "      <td>534.6</td>\n",
       "      <td>0</td>\n",
       "      <td>0.00%</td>\n",
       "    </tr>\n",
       "    <tr>\n",
       "      <td>MNXM13@MNXC19</td>\n",
       "      <td>mnxr96810c19b</td>\n",
       "      <td>14.57</td>\n",
       "      <td>1</td>\n",
       "      <td>100.00%</td>\n",
       "    </tr>\n",
       "    <tr>\n",
       "      <td>nh2oh@MNXC19</td>\n",
       "      <td>reac13E8B99E</td>\n",
       "      <td>482.9</td>\n",
       "      <td>0</td>\n",
       "      <td>0.00%</td>\n",
       "    </tr>\n",
       "  </tbody>\n",
       "</table><h4>Secretion</h4><table border=\"1\" class=\"dataframe\">\n",
       "  <thead>\n",
       "    <tr style=\"text-align: right;\">\n",
       "      <th>Metabolite</th>\n",
       "      <th>Reaction</th>\n",
       "      <th>Flux</th>\n",
       "      <th>C-Number</th>\n",
       "      <th>C-Flux</th>\n",
       "    </tr>\n",
       "  </thead>\n",
       "  <tbody>\n",
       "    <tr>\n",
       "      <td>MNXM107@BOUNDARY</td>\n",
       "      <td>EX_MNXM107@BOUNDARY</td>\n",
       "      <td>-614.9</td>\n",
       "      <td>0</td>\n",
       "      <td>0.00%</td>\n",
       "    </tr>\n",
       "    <tr>\n",
       "      <td>MNXM1@BOUNDARY</td>\n",
       "      <td>EX_MNXM1@BOUNDARY</td>\n",
       "      <td>-614.9</td>\n",
       "      <td>0</td>\n",
       "      <td>0.00%</td>\n",
       "    </tr>\n",
       "    <tr>\n",
       "      <td>BIOMASS@MNXC19</td>\n",
       "      <td>mnxr137261c19b</td>\n",
       "      <td>-3.642</td>\n",
       "      <td>0</td>\n",
       "      <td>0.00%</td>\n",
       "    </tr>\n",
       "    <tr>\n",
       "      <td>WATER@MNXC19</td>\n",
       "      <td>mnxr98641c19b</td>\n",
       "      <td>-385.1</td>\n",
       "      <td>0</td>\n",
       "      <td>0.00%</td>\n",
       "    </tr>\n",
       "  </tbody>\n",
       "</table>"
      ],
      "text/plain": [
       "<cobra.summary.model_summary.ModelSummary at 0x2b28bf96b310>"
      ]
     },
     "execution_count": 24,
     "metadata": {},
     "output_type": "execute_result"
    },
    {
     "data": {
      "text/html": [
       "\n",
       "        <table>\n",
       "            <tr>\n",
       "                <td><strong>Reaction identifier</strong></td><td>reac7F048F7A</td>\n",
       "            </tr><tr>\n",
       "                <td><strong>Name</strong></td><td></td>\n",
       "            </tr><tr>\n",
       "                <td><strong>Memory address</strong></td>\n",
       "                <td>0x02b28bff98e80</td>\n",
       "            </tr><tr>\n",
       "                <td><strong>Stoichiometry</strong></td>\n",
       "                <td>\n",
       "                    <p style='text-align:right'>0.25 MNXM1094049@MNXC3 + 12.0 MNXM10@MNXC3 + 15.0 MNXM3@MNXC3 + 32.0 m@MNXC3 --> BIOMASS@MNXC3 + 15.0 MNXM40333@MNXC3 + 12.0 MNXM8@MNXC3 + 15.0 MNXM9@MNXC3</p>\n",
       "                    <p style='text-align:right'>0.25 Torasemide-M3 + 12.0 NADH + 15.0 ATP + 32.0 m --> BIOMASS + 15.0 ADP + 12.0 NAD(+) + 15.0 phosphate</p>\n",
       "                </td>\n",
       "            </tr><tr>\n",
       "                <td><strong>GPR</strong></td><td></td>\n",
       "            </tr><tr>\n",
       "                <td><strong>Lower bound</strong></td><td>0.0</td>\n",
       "            </tr><tr>\n",
       "                <td><strong>Upper bound</strong></td><td>1000.0</td>\n",
       "            </tr>\n",
       "        </table>\n",
       "        "
      ],
      "text/plain": [
       "<Reaction reac7F048F7A at 0x2b28bff98e80>"
      ]
     },
     "execution_count": 24,
     "metadata": {},
     "output_type": "execute_result"
    },
    {
     "data": {
      "text/html": [
       "<h3>Objective</h3><p>1.0 reac7F048F7A = 3.6424617796485452</p><h4>Uptake</h4><table border=\"1\" class=\"dataframe\">\n",
       "  <thead>\n",
       "    <tr style=\"text-align: right;\">\n",
       "      <th>Metabolite</th>\n",
       "      <th>Reaction</th>\n",
       "      <th>Flux</th>\n",
       "      <th>C-Number</th>\n",
       "      <th>C-Flux</th>\n",
       "    </tr>\n",
       "  </thead>\n",
       "  <tbody>\n",
       "    <tr>\n",
       "      <td>MNXM735438@MNXC19</td>\n",
       "      <td>mnxr102090c19b</td>\n",
       "      <td>402.6</td>\n",
       "      <td>0</td>\n",
       "      <td>0.00%</td>\n",
       "    </tr>\n",
       "    <tr>\n",
       "      <td>MNXM13@MNXC19</td>\n",
       "      <td>mnxr96810c19b</td>\n",
       "      <td>14.57</td>\n",
       "      <td>1</td>\n",
       "      <td>100.00%</td>\n",
       "    </tr>\n",
       "    <tr>\n",
       "      <td>nh2oh@MNXC19</td>\n",
       "      <td>reac13E8B99E</td>\n",
       "      <td>394.9</td>\n",
       "      <td>0</td>\n",
       "      <td>0.00%</td>\n",
       "    </tr>\n",
       "    <tr>\n",
       "      <td>n2o4@MNXC19</td>\n",
       "      <td>reac43D8A456</td>\n",
       "      <td>132</td>\n",
       "      <td>0</td>\n",
       "      <td>0.00%</td>\n",
       "    </tr>\n",
       "  </tbody>\n",
       "</table><h4>Secretion</h4><table border=\"1\" class=\"dataframe\">\n",
       "  <thead>\n",
       "    <tr style=\"text-align: right;\">\n",
       "      <th>Metabolite</th>\n",
       "      <th>Reaction</th>\n",
       "      <th>Flux</th>\n",
       "      <th>C-Number</th>\n",
       "      <th>C-Flux</th>\n",
       "    </tr>\n",
       "  </thead>\n",
       "  <tbody>\n",
       "    <tr>\n",
       "      <td>MNXM107@BOUNDARY</td>\n",
       "      <td>EX_MNXM107@BOUNDARY</td>\n",
       "      <td>-790.9</td>\n",
       "      <td>0</td>\n",
       "      <td>0.00%</td>\n",
       "    </tr>\n",
       "    <tr>\n",
       "      <td>MNXM1@BOUNDARY</td>\n",
       "      <td>EX_MNXM1@BOUNDARY</td>\n",
       "      <td>-790.9</td>\n",
       "      <td>0</td>\n",
       "      <td>0.00%</td>\n",
       "    </tr>\n",
       "    <tr>\n",
       "      <td>BIOMASS@MNXC19</td>\n",
       "      <td>mnxr137261c19b</td>\n",
       "      <td>-3.642</td>\n",
       "      <td>0</td>\n",
       "      <td>0.00%</td>\n",
       "    </tr>\n",
       "    <tr>\n",
       "      <td>WATER@MNXC19</td>\n",
       "      <td>mnxr98641c19b</td>\n",
       "      <td>-209.1</td>\n",
       "      <td>0</td>\n",
       "      <td>0.00%</td>\n",
       "    </tr>\n",
       "  </tbody>\n",
       "</table>"
      ],
      "text/plain": [
       "<cobra.summary.model_summary.ModelSummary at 0x2b28bfe53250>"
      ]
     },
     "execution_count": 24,
     "metadata": {},
     "output_type": "execute_result"
    },
    {
     "data": {
      "text/html": [
       "\n",
       "        <table>\n",
       "            <tr>\n",
       "                <td><strong>Reaction identifier</strong></td><td>reac7F048F7A</td>\n",
       "            </tr><tr>\n",
       "                <td><strong>Name</strong></td><td></td>\n",
       "            </tr><tr>\n",
       "                <td><strong>Memory address</strong></td>\n",
       "                <td>0x02b28c0018f70</td>\n",
       "            </tr><tr>\n",
       "                <td><strong>Stoichiometry</strong></td>\n",
       "                <td>\n",
       "                    <p style='text-align:right'>0.25 MNXM1094049@MNXC3 + 12.0 MNXM10@MNXC3 + 15.0 MNXM3@MNXC3 + 32.0 m@MNXC3 --> BIOMASS@MNXC3 + 15.0 MNXM40333@MNXC3 + 12.0 MNXM8@MNXC3 + 15.0 MNXM9@MNXC3</p>\n",
       "                    <p style='text-align:right'>0.25 Torasemide-M3 + 12.0 NADH + 15.0 ATP + 32.0 m --> BIOMASS + 15.0 ADP + 12.0 NAD(+) + 15.0 phosphate</p>\n",
       "                </td>\n",
       "            </tr><tr>\n",
       "                <td><strong>GPR</strong></td><td></td>\n",
       "            </tr><tr>\n",
       "                <td><strong>Lower bound</strong></td><td>0.0</td>\n",
       "            </tr><tr>\n",
       "                <td><strong>Upper bound</strong></td><td>1000.0</td>\n",
       "            </tr>\n",
       "        </table>\n",
       "        "
      ],
      "text/plain": [
       "<Reaction reac7F048F7A at 0x2b28c0018f70>"
      ]
     },
     "execution_count": 24,
     "metadata": {},
     "output_type": "execute_result"
    }
   ],
   "source": [
    "NEU.summary()\n",
    "NEU.reactions.get_by_id('reac7F048F7A')\n",
    "NEU.reactions.get_by_id('reac7F048F7A').lower_bound = 0\n",
    "NEU.reactions.get_by_id('reac7F048F7A').upper_bound = 2.67\n",
    "\n",
    "NET.summary()\n",
    "NET.reactions.get_by_id('reac7F048F7A')\n",
    "NET.reactions.get_by_id('reac7F048F7A').lower_bound = 0\n",
    "NET.reactions.get_by_id('reac7F048F7A').upper_bound = 2.67"
   ]
  },
  {
   "cell_type": "markdown",
   "metadata": {},
   "source": [
    "Set maximum growth rate of Nitrospira defluvii based on values from Winkler et al. 2017: daily maximum growth rate of .67/day"
   ]
  },
  {
   "cell_type": "code",
   "execution_count": 32,
   "metadata": {},
   "outputs": [
    {
     "data": {
      "text/html": [
       "<h3>Objective</h3><p>1.0 reacF22BFD37 = 4.6031190734841925</p><h4>Uptake</h4><table border=\"1\" class=\"dataframe\">\n",
       "  <thead>\n",
       "    <tr style=\"text-align: right;\">\n",
       "      <th>Metabolite</th>\n",
       "      <th>Reaction</th>\n",
       "      <th>Flux</th>\n",
       "      <th>C-Number</th>\n",
       "      <th>C-Flux</th>\n",
       "    </tr>\n",
       "  </thead>\n",
       "  <tbody>\n",
       "    <tr>\n",
       "      <td>MNXM729302@MNXC2</td>\n",
       "      <td>mnxr101950c2b</td>\n",
       "      <td>18.41</td>\n",
       "      <td>0</td>\n",
       "      <td>0.00%</td>\n",
       "    </tr>\n",
       "    <tr>\n",
       "      <td>MNXM13@MNXC2</td>\n",
       "      <td>mnxr96810c2b</td>\n",
       "      <td>18.41</td>\n",
       "      <td>1</td>\n",
       "      <td>100.00%</td>\n",
       "    </tr>\n",
       "  </tbody>\n",
       "</table><h4>Secretion</h4><table border=\"1\" class=\"dataframe\">\n",
       "  <thead>\n",
       "    <tr style=\"text-align: right;\">\n",
       "      <th>Metabolite</th>\n",
       "      <th>Reaction</th>\n",
       "      <th>Flux</th>\n",
       "      <th>C-Number</th>\n",
       "      <th>C-Flux</th>\n",
       "    </tr>\n",
       "  </thead>\n",
       "  <tbody>\n",
       "    <tr>\n",
       "      <td>MNXM732398@MNXC2</td>\n",
       "      <td>mnxr101992c2b</td>\n",
       "      <td>-13.81</td>\n",
       "      <td>0</td>\n",
       "      <td>0.00%</td>\n",
       "    </tr>\n",
       "    <tr>\n",
       "      <td>BIOMASS@MNXC3</td>\n",
       "      <td>mnxr137261c3b</td>\n",
       "      <td>-4.603</td>\n",
       "      <td>0</td>\n",
       "      <td>0.00%</td>\n",
       "    </tr>\n",
       "    <tr>\n",
       "      <td>WATER@MNXC2</td>\n",
       "      <td>mnxr98641c2b</td>\n",
       "      <td>-37.95</td>\n",
       "      <td>0</td>\n",
       "      <td>0.00%</td>\n",
       "    </tr>\n",
       "  </tbody>\n",
       "</table>"
      ],
      "text/plain": [
       "<cobra.summary.model_summary.ModelSummary at 0x2b28bef86f70>"
      ]
     },
     "execution_count": 32,
     "metadata": {},
     "output_type": "execute_result"
    },
    {
     "data": {
      "text/html": [
       "\n",
       "        <table>\n",
       "            <tr>\n",
       "                <td><strong>Reaction identifier</strong></td><td>reacF22BFD37</td>\n",
       "            </tr><tr>\n",
       "                <td><strong>Name</strong></td><td></td>\n",
       "            </tr><tr>\n",
       "                <td><strong>Memory address</strong></td>\n",
       "                <td>0x02b28bea36eb0</td>\n",
       "            </tr><tr>\n",
       "                <td><strong>Stoichiometry</strong></td>\n",
       "                <td>\n",
       "                    <p style='text-align:right'>0.25 MNXM1094049@MNXC3 + 12.0 MNXM10@MNXC3 + 15.0 MNXM3@MNXC3 + 200.0 m@MNXC3 --> BIOMASS@MNXC3 + 15.0 MNXM40333@MNXC3 + 12.0 MNXM8@MNXC3 + 15.0 MNXM9@MNXC3</p>\n",
       "                    <p style='text-align:right'>0.25 Torasemide-M3 + 12.0 NADH + 15.0 ATP + 200.0 m --> BIOMASS + 15.0 ADP + 12.0 NAD(+) + 15.0 phosphate</p>\n",
       "                </td>\n",
       "            </tr><tr>\n",
       "                <td><strong>GPR</strong></td><td></td>\n",
       "            </tr><tr>\n",
       "                <td><strong>Lower bound</strong></td><td>0.0</td>\n",
       "            </tr><tr>\n",
       "                <td><strong>Upper bound</strong></td><td>1000.0</td>\n",
       "            </tr>\n",
       "        </table>\n",
       "        "
      ],
      "text/plain": [
       "<Reaction reacF22BFD37 at 0x2b28bea36eb0>"
      ]
     },
     "execution_count": 32,
     "metadata": {},
     "output_type": "execute_result"
    }
   ],
   "source": [
    "NDE.summary()\n",
    "NDE.reactions.get_by_id('reacF22BFD37')\n",
    "NDE.reactions.get_by_id('reacF22BFD37').lower_bound = 0\n",
    "NDE.reactions.get_by_id('reacF22BFD37').upper_bound = .67 "
   ]
  },
  {
   "cell_type": "markdown",
   "metadata": {},
   "source": [
    "Set maximum growth rate of Nitrospina based on generic NOB doubling time of 30h (Prosser et al. 2005), daily growth rate = ln(2)/(doubling time in hours/24) = .55/day"
   ]
  },
  {
   "cell_type": "code",
   "execution_count": 26,
   "metadata": {},
   "outputs": [
    {
     "data": {
      "text/html": [
       "<h3>Objective</h3><p>1.0 reacF22BFD37 = 0.9091509681548631</p><h4>Uptake</h4><table border=\"1\" class=\"dataframe\">\n",
       "  <thead>\n",
       "    <tr style=\"text-align: right;\">\n",
       "      <th>Metabolite</th>\n",
       "      <th>Reaction</th>\n",
       "      <th>Flux</th>\n",
       "      <th>C-Number</th>\n",
       "      <th>C-Flux</th>\n",
       "    </tr>\n",
       "  </thead>\n",
       "  <tbody>\n",
       "    <tr>\n",
       "      <td>MNXM107@MNXC19</td>\n",
       "      <td>mnxr101912c19b</td>\n",
       "      <td>92.84</td>\n",
       "      <td>0</td>\n",
       "      <td>0.00%</td>\n",
       "    </tr>\n",
       "    <tr>\n",
       "      <td>MNXM735438@MNXC19</td>\n",
       "      <td>mnxr102090c19b</td>\n",
       "      <td>605.3</td>\n",
       "      <td>0</td>\n",
       "      <td>0.00%</td>\n",
       "    </tr>\n",
       "    <tr>\n",
       "      <td>MNXM1107902@MNXC19</td>\n",
       "      <td>mnxr191149c19b</td>\n",
       "      <td>1000</td>\n",
       "      <td>0</td>\n",
       "      <td>0.00%</td>\n",
       "    </tr>\n",
       "    <tr>\n",
       "      <td>MNXM13@MNXC19</td>\n",
       "      <td>mnxr96810c19b</td>\n",
       "      <td>3.637</td>\n",
       "      <td>1</td>\n",
       "      <td>100.00%</td>\n",
       "    </tr>\n",
       "    <tr>\n",
       "      <td>WATER@MNXC19</td>\n",
       "      <td>mnxr98641c19b</td>\n",
       "      <td>588.1</td>\n",
       "      <td>0</td>\n",
       "      <td>0.00%</td>\n",
       "    </tr>\n",
       "  </tbody>\n",
       "</table><h4>Secretion</h4><table border=\"1\" class=\"dataframe\">\n",
       "  <thead>\n",
       "    <tr style=\"text-align: right;\">\n",
       "      <th>Metabolite</th>\n",
       "      <th>Reaction</th>\n",
       "      <th>Flux</th>\n",
       "      <th>C-Number</th>\n",
       "      <th>C-Flux</th>\n",
       "    </tr>\n",
       "  </thead>\n",
       "  <tbody>\n",
       "    <tr>\n",
       "      <td>MNXM732398@MNXC19</td>\n",
       "      <td>mnxr101992c19b</td>\n",
       "      <td>-1000</td>\n",
       "      <td>0</td>\n",
       "      <td>0.00%</td>\n",
       "    </tr>\n",
       "    <tr>\n",
       "      <td>BIOMASS@MNXC3</td>\n",
       "      <td>mnxr137261c3b</td>\n",
       "      <td>-0.9092</td>\n",
       "      <td>0</td>\n",
       "      <td>0.00%</td>\n",
       "    </tr>\n",
       "  </tbody>\n",
       "</table>"
      ],
      "text/plain": [
       "<cobra.summary.model_summary.ModelSummary at 0x2b28bff00f10>"
      ]
     },
     "execution_count": 26,
     "metadata": {},
     "output_type": "execute_result"
    },
    {
     "data": {
      "text/html": [
       "\n",
       "        <table>\n",
       "            <tr>\n",
       "                <td><strong>Reaction identifier</strong></td><td>reacF22BFD37</td>\n",
       "            </tr><tr>\n",
       "                <td><strong>Name</strong></td><td></td>\n",
       "            </tr><tr>\n",
       "                <td><strong>Memory address</strong></td>\n",
       "                <td>0x02b28bfa02a30</td>\n",
       "            </tr><tr>\n",
       "                <td><strong>Stoichiometry</strong></td>\n",
       "                <td>\n",
       "                    <p style='text-align:right'>0.25 MNXM1094049@MNXC3 + 12.0 MNXM10@MNXC3 + 15.0 MNXM3@MNXC3 + 200.0 m@MNXC3 --> BIOMASS@MNXC3 + 15.0 MNXM40333@MNXC3 + 12.0 MNXM8@MNXC3 + 15.0 MNXM9@MNXC3</p>\n",
       "                    <p style='text-align:right'>0.25 Torasemide-M3 + 12.0 NADH + 15.0 ATP + 200.0 m --> BIOMASS + 15.0 ADP + 12.0 NAD(+) + 15.0 phosphate</p>\n",
       "                </td>\n",
       "            </tr><tr>\n",
       "                <td><strong>GPR</strong></td><td></td>\n",
       "            </tr><tr>\n",
       "                <td><strong>Lower bound</strong></td><td>0.0</td>\n",
       "            </tr><tr>\n",
       "                <td><strong>Upper bound</strong></td><td>1000.0</td>\n",
       "            </tr>\n",
       "        </table>\n",
       "        "
      ],
      "text/plain": [
       "<Reaction reacF22BFD37 at 0x2b28bfa02a30>"
      ]
     },
     "execution_count": 26,
     "metadata": {},
     "output_type": "execute_result"
    }
   ],
   "source": [
    "NSP.summary()\n",
    "NSP.reactions.get_by_id('reacF22BFD37')\n",
    "NSP.reactions.get_by_id('reacF22BFD37').lower_bound = 0\n",
    "NSP.reactions.get_by_id('reacF22BFD37').upper_bound = .55\n",
    "\n",
    "#NOC.summary()\n",
    "#NOC.reactions.get_by_id('reac7F048F7A')\n",
    "#NOC.reactions.get_by_id('reac7F048F7A').lower_bound = 0\n",
    "#NOC.reactions.get_by_id('reac7F048F7A').upper_bound = .55"
   ]
  },
  {
   "cell_type": "markdown",
   "metadata": {},
   "source": [
    "Set maximum growth rate of Nitrospira winogradskyi (1.6) and average Nitrospira (.9( based on values summarized in Winkler et al. 2017: daily maximum growth rate of .67/day"
   ]
  },
  {
   "cell_type": "code",
   "execution_count": 27,
   "metadata": {},
   "outputs": [
    {
     "data": {
      "text/html": [
       "<h3>Objective</h3><p>1.0 reacF22BFD37 = 3.25345028402621</p><h4>Uptake</h4><table border=\"1\" class=\"dataframe\">\n",
       "  <thead>\n",
       "    <tr style=\"text-align: right;\">\n",
       "      <th>Metabolite</th>\n",
       "      <th>Reaction</th>\n",
       "      <th>Flux</th>\n",
       "      <th>C-Number</th>\n",
       "      <th>C-Flux</th>\n",
       "    </tr>\n",
       "  </thead>\n",
       "  <tbody>\n",
       "    <tr>\n",
       "      <td>MNXM735438@MNXC19</td>\n",
       "      <td>mnxr102090c19b</td>\n",
       "      <td>72.29</td>\n",
       "      <td>0</td>\n",
       "      <td>0.00%</td>\n",
       "    </tr>\n",
       "    <tr>\n",
       "      <td>MNXM1107902@MNXC19</td>\n",
       "      <td>mnxr191149c19b</td>\n",
       "      <td>122.4</td>\n",
       "      <td>0</td>\n",
       "      <td>0.00%</td>\n",
       "    </tr>\n",
       "    <tr>\n",
       "      <td>MNXM13@MNXC19</td>\n",
       "      <td>mnxr96810c19b</td>\n",
       "      <td>13.01</td>\n",
       "      <td>1</td>\n",
       "      <td>100.00%</td>\n",
       "    </tr>\n",
       "    <tr>\n",
       "      <td>WATER@MNXC19</td>\n",
       "      <td>mnxr98641c19b</td>\n",
       "      <td>44.14</td>\n",
       "      <td>0</td>\n",
       "      <td>0.00%</td>\n",
       "    </tr>\n",
       "  </tbody>\n",
       "</table><h4>Secretion</h4><table border=\"1\" class=\"dataframe\">\n",
       "  <thead>\n",
       "    <tr style=\"text-align: right;\">\n",
       "      <th>Metabolite</th>\n",
       "      <th>Reaction</th>\n",
       "      <th>Flux</th>\n",
       "      <th>C-Number</th>\n",
       "      <th>C-Flux</th>\n",
       "    </tr>\n",
       "  </thead>\n",
       "  <tbody>\n",
       "    <tr>\n",
       "      <td>MNXM732398@MNXC19</td>\n",
       "      <td>mnxr101992c19b</td>\n",
       "      <td>-122.4</td>\n",
       "      <td>0</td>\n",
       "      <td>0.00%</td>\n",
       "    </tr>\n",
       "    <tr>\n",
       "      <td>BIOMASS@MNXC3</td>\n",
       "      <td>mnxr137261c3b</td>\n",
       "      <td>-3.253</td>\n",
       "      <td>0</td>\n",
       "      <td>0.00%</td>\n",
       "    </tr>\n",
       "  </tbody>\n",
       "</table>"
      ],
      "text/plain": [
       "<cobra.summary.model_summary.ModelSummary at 0x2b28bf441b80>"
      ]
     },
     "execution_count": 27,
     "metadata": {},
     "output_type": "execute_result"
    },
    {
     "data": {
      "text/html": [
       "\n",
       "        <table>\n",
       "            <tr>\n",
       "                <td><strong>Reaction identifier</strong></td><td>reacF22BFD37</td>\n",
       "            </tr><tr>\n",
       "                <td><strong>Name</strong></td><td></td>\n",
       "            </tr><tr>\n",
       "                <td><strong>Memory address</strong></td>\n",
       "                <td>0x02b28bfdb8070</td>\n",
       "            </tr><tr>\n",
       "                <td><strong>Stoichiometry</strong></td>\n",
       "                <td>\n",
       "                    <p style='text-align:right'>0.25 MNXM1094049@MNXC3 + 12.0 MNXM10@MNXC3 + 15.0 MNXM3@MNXC3 + 200.0 m@MNXC3 --> BIOMASS@MNXC3 + 15.0 MNXM40333@MNXC3 + 12.0 MNXM8@MNXC3 + 15.0 MNXM9@MNXC3</p>\n",
       "                    <p style='text-align:right'>0.25 Torasemide-M3 + 12.0 NADH + 15.0 ATP + 200.0 m --> BIOMASS + 15.0 ADP + 12.0 NAD(+) + 15.0 phosphate</p>\n",
       "                </td>\n",
       "            </tr><tr>\n",
       "                <td><strong>GPR</strong></td><td></td>\n",
       "            </tr><tr>\n",
       "                <td><strong>Lower bound</strong></td><td>0.0</td>\n",
       "            </tr><tr>\n",
       "                <td><strong>Upper bound</strong></td><td>1000.0</td>\n",
       "            </tr>\n",
       "        </table>\n",
       "        "
      ],
      "text/plain": [
       "<Reaction reacF22BFD37 at 0x2b28bfdb8070>"
      ]
     },
     "execution_count": 27,
     "metadata": {},
     "output_type": "execute_result"
    },
    {
     "data": {
      "text/html": [
       "<h3>Objective</h3><p>1.0 reacF22BFD37 = 1.3483376345303884</p><h4>Uptake</h4><table border=\"1\" class=\"dataframe\">\n",
       "  <thead>\n",
       "    <tr style=\"text-align: right;\">\n",
       "      <th>Metabolite</th>\n",
       "      <th>Reaction</th>\n",
       "      <th>Flux</th>\n",
       "      <th>C-Number</th>\n",
       "      <th>C-Flux</th>\n",
       "    </tr>\n",
       "  </thead>\n",
       "  <tbody>\n",
       "    <tr>\n",
       "      <td>MNXM735438@MNXC19</td>\n",
       "      <td>mnxr102090c19b</td>\n",
       "      <td>466.5</td>\n",
       "      <td>0</td>\n",
       "      <td>0.00%</td>\n",
       "    </tr>\n",
       "    <tr>\n",
       "      <td>MNXM1107902@MNXC19</td>\n",
       "      <td>mnxr191149c19b</td>\n",
       "      <td>1000</td>\n",
       "      <td>0</td>\n",
       "      <td>0.00%</td>\n",
       "    </tr>\n",
       "    <tr>\n",
       "      <td>MNXM13@MNXC19</td>\n",
       "      <td>mnxr96810c19b</td>\n",
       "      <td>5.393</td>\n",
       "      <td>1</td>\n",
       "      <td>100.00%</td>\n",
       "    </tr>\n",
       "    <tr>\n",
       "      <td>WATER@MNXC19</td>\n",
       "      <td>mnxr98641c19b</td>\n",
       "      <td>630.6</td>\n",
       "      <td>0</td>\n",
       "      <td>0.00%</td>\n",
       "    </tr>\n",
       "  </tbody>\n",
       "</table><h4>Secretion</h4><table border=\"1\" class=\"dataframe\">\n",
       "  <thead>\n",
       "    <tr style=\"text-align: right;\">\n",
       "      <th>Metabolite</th>\n",
       "      <th>Reaction</th>\n",
       "      <th>Flux</th>\n",
       "      <th>C-Number</th>\n",
       "      <th>C-Flux</th>\n",
       "    </tr>\n",
       "  </thead>\n",
       "  <tbody>\n",
       "    <tr>\n",
       "      <td>MNXM732398@MNXC19</td>\n",
       "      <td>mnxr101992c19b</td>\n",
       "      <td>-862.3</td>\n",
       "      <td>0</td>\n",
       "      <td>0.00%</td>\n",
       "    </tr>\n",
       "    <tr>\n",
       "      <td>BIOMASS@MNXC3</td>\n",
       "      <td>mnxr137261c3b</td>\n",
       "      <td>-1.348</td>\n",
       "      <td>0</td>\n",
       "      <td>0.00%</td>\n",
       "    </tr>\n",
       "  </tbody>\n",
       "</table>"
      ],
      "text/plain": [
       "<cobra.summary.model_summary.ModelSummary at 0x2b28bea333d0>"
      ]
     },
     "execution_count": 27,
     "metadata": {},
     "output_type": "execute_result"
    },
    {
     "data": {
      "text/html": [
       "\n",
       "        <table>\n",
       "            <tr>\n",
       "                <td><strong>Reaction identifier</strong></td><td>reacF22BFD37</td>\n",
       "            </tr><tr>\n",
       "                <td><strong>Name</strong></td><td></td>\n",
       "            </tr><tr>\n",
       "                <td><strong>Memory address</strong></td>\n",
       "                <td>0x02b28bfb87940</td>\n",
       "            </tr><tr>\n",
       "                <td><strong>Stoichiometry</strong></td>\n",
       "                <td>\n",
       "                    <p style='text-align:right'>0.25 MNXM1094049@MNXC3 + 12.0 MNXM10@MNXC3 + 15.0 MNXM3@MNXC3 + 200.0 m@MNXC3 --> BIOMASS@MNXC3 + 15.0 MNXM40333@MNXC3 + 12.0 MNXM8@MNXC3 + 15.0 MNXM9@MNXC3</p>\n",
       "                    <p style='text-align:right'>0.25 Torasemide-M3 + 12.0 NADH + 15.0 ATP + 200.0 m --> BIOMASS + 15.0 ADP + 12.0 NAD(+) + 15.0 phosphate</p>\n",
       "                </td>\n",
       "            </tr><tr>\n",
       "                <td><strong>GPR</strong></td><td></td>\n",
       "            </tr><tr>\n",
       "                <td><strong>Lower bound</strong></td><td>0.0</td>\n",
       "            </tr><tr>\n",
       "                <td><strong>Upper bound</strong></td><td>1000.0</td>\n",
       "            </tr>\n",
       "        </table>\n",
       "        "
      ],
      "text/plain": [
       "<Reaction reacF22BFD37 at 0x2b28bfb87940>"
      ]
     },
     "execution_count": 27,
     "metadata": {},
     "output_type": "execute_result"
    }
   ],
   "source": [
    "NWI.summary()\n",
    "NWI.reactions.get_by_id('reacF22BFD37')\n",
    "NWI.reactions.get_by_id('reacF22BFD37').lower_bound = 0\n",
    "NWI.reactions.get_by_id('reacF22BFD37').upper_bound = 1.6\n",
    "\n",
    "NHA.summary()\n",
    "NHA.reactions.get_by_id('reacF22BFD37')\n",
    "NHA.reactions.get_by_id('reacF22BFD37').lower_bound = 0\n",
    "NHA.reactions.get_by_id('reacF22BFD37').upper_bound = .9"
   ]
  },
  {
   "cell_type": "code",
   "execution_count": 33,
   "metadata": {},
   "outputs": [
    {
     "name": "stdout",
     "output_type": "stream",
     "text": [
      "Growth Rate: 2.67 1/h\n",
      "Growth Rate: 2.67 1/h\n",
      "Growth Rate: 2.0177920834752507 1/h\n",
      "Growth Rate: 2.017792083475251 1/h\n",
      "Growth Rate: 0.67 1/h\n",
      "Growth Rate: 1.6 1/h\n",
      "Growth Rate: 0.9 1/h\n",
      "Growth Rate: 0.55 1/h\n"
     ]
    }
   ],
   "source": [
    "solution = NET.optimize()\n",
    "print('Growth Rate: '+str(solution.objective_value)+' 1/h')\n",
    "\n",
    "solution = NEU.optimize()\n",
    "print('Growth Rate: '+str(solution.objective_value)+' 1/h')\n",
    "\n",
    "solution = NMU.optimize()\n",
    "print('Growth Rate: '+str(solution.objective_value)+' 1/h')\n",
    "\n",
    "solution = NOC.optimize()\n",
    "print('Growth Rate: '+str(solution.objective_value)+' 1/h')\n",
    "\n",
    "solution = NDE.optimize()\n",
    "print('Growth Rate: '+str(solution.objective_value)+' 1/h')\n",
    "\n",
    "solution = NWI.optimize()\n",
    "print('Growth Rate: '+str(solution.objective_value)+' 1/h')\n",
    "\n",
    "solution = NHA.optimize()\n",
    "print('Growth Rate: '+str(solution.objective_value)+' 1/h')\n",
    "\n",
    "solution = NSP.optimize()\n",
    "print('Growth Rate: '+str(solution.objective_value)+' 1/h')\n",
    "\n",
    "#solution = iPB.optimize()\n",
    "#print('Growth Rate: '+str(solution.objective_value)+' 1/h')\n",
    "#\n",
    "#solution = iJO.optimize()\n",
    "#print('Growth Rate: '+str(solution.objective_value)+' 1/h')\n",
    "#\n",
    "#solution = iRR.optimize()\n",
    "#print('Growth Rate: '+str(solution.objective_value)+' 1/h')\n",
    "#\n",
    "#solution = iJN.optimize()\n",
    "#print('Growth Rate: '+str(solution.objective_value)+' 1/h')\n",
    "#\n",
    "#solution = iJN_full.optimize()\n",
    "#print('Growth Rate: '+str(solution.objective_value)+' 1/h')"
   ]
  },
  {
   "cell_type": "code",
   "execution_count": 34,
   "metadata": {},
   "outputs": [],
   "source": [
    "\n",
    "NEU_c = c.model(NEU)\n",
    "NEU_c.ensure_sinks_are_not_exchanges()\n",
    "NEU_c.open_exchanges()\n",
    "\n",
    "NET_c = c.model(NET)\n",
    "NET_c.ensure_sinks_are_not_exchanges()\n",
    "NET_c.open_exchanges()\n",
    "\n",
    "NMU_c = c.model(NMU)\n",
    "NMU_c.ensure_sinks_are_not_exchanges()\n",
    "NMU_c.open_exchanges()\n",
    "\n",
    "NOC_c = c.model(NOC)\n",
    "NOC_c.ensure_sinks_are_not_exchanges()\n",
    "NOC_c.open_exchanges()\n",
    "\n",
    "NDE_c = c.model(NDE)\n",
    "NDE_c.ensure_sinks_are_not_exchanges()\n",
    "NDE_c.open_exchanges()\n",
    "\n",
    "NWI_c = c.model(NWI)\n",
    "NWI_c.ensure_sinks_are_not_exchanges()\n",
    "NWI_c.open_exchanges()\n",
    "\n",
    "NHA_c = c.model(NHA)\n",
    "NHA_c.ensure_sinks_are_not_exchanges()\n",
    "NHA_c.open_exchanges()\n",
    "\n",
    "NSP_c = c.model(NSP)\n",
    "NSP_c.ensure_sinks_are_not_exchanges()\n",
    "NSP_c.open_exchanges()\n",
    "\n",
    "#iJN_c = c.model(iJN)\n",
    "#iJN_c.ensure_sinks_are_not_exchanges()\n",
    "#iJN_c.open_exchanges()"
   ]
  },
  {
   "cell_type": "code",
   "execution_count": 35,
   "metadata": {},
   "outputs": [],
   "source": [
    "#iPB_c.id = \"P_stutzeri\"\n",
    "#iJO_c.id = \"E_coli\"\n",
    "#iRR_c.id = \"S_enterica\"\n",
    "#iJN_c.id = \"P_putida\"\n",
    "NEU_c.id = \"Nitrosomonas_europaea_AOB\"\n",
    "NET_c.id = \"Nitrosomonas_eutropha_AOB\"\n",
    "NMU_c.id = \"Nitrosospira_multiformis_AOB\"\n",
    "NOC_c.id = \"Nitrosococcus_oceani_AOB\"\n",
    "NDE_c.id = \"Nitrospira_defluvii_NOB\"\n",
    "NWI_c.id = \"Nitrobacter_winogradskyi_NOB\"\n",
    "NHA_c.id = \"Nitrobacter_hamburgensis_NOB\"\n",
    "NSP_c.id = \"Nitrospina_gracilis_NOB\"\n"
   ]
  },
  {
   "cell_type": "markdown",
   "metadata": {},
   "source": [
    "Our simulated world will be a 100x100 box lattice. The left-hand side, where x = 0, will be the root. The top, where y = 0, will be the air. Therefore, the biomass and the rocks will be distributed everywhere else. To ensure that we don't attempt to place biomass where rocks are placed, we first determine the rock locations. Specifically, we will create 70 rocks which are impervious to any biomass or metabolite. These rocks will have an average size of 15 boxes. To pick these locations, we use the helper function grow_rocks, in the utils subpackage:"
   ]
  },
  {
   "cell_type": "code",
   "execution_count": 36,
   "metadata": {},
   "outputs": [],
   "source": [
    "from cometspy.utils import grow_rocks, pick_random_locations\n",
    "\n",
    "grid_width =  20 # narrow, so we can really look at stratification\n",
    "grid_height =  60\n",
    "\n",
    "grid_width =  10 # narrow, so we can really look at stratification\n",
    "grid_height =  100\n",
    "n_rocks = 50 # 70\n",
    "rock_locs = grow_rocks(n = n_rocks, xrange = [1,grid_width-1],yrange = [1,grid_height-1],mean_size = 2)"
   ]
  },
  {
   "cell_type": "markdown",
   "metadata": {},
   "source": [
    "Each species will have biomass seeded at 60 different locations, with no overlap. We will use the helper function pick_random_locations for this, which is useful as it can take in a previously-generated list of tuples of x-y locations as “forbidden” locations, such as the rock locations.\n",
    "\n",
    "First we make a copy of the rock_locs so we don't accidentally alter it, and call this copy forbidden_locs.\n"
   ]
  },
  {
   "cell_type": "markdown",
   "metadata": {},
   "source": [
    "Next we pick the random locations for each species, adding these locations to the forbidden locs as we go so as to prevent overlap.\n"
   ]
  },
  {
   "cell_type": "code",
   "execution_count": 37,
   "metadata": {},
   "outputs": [
    {
     "data": {
      "text/plain": [
       "set()"
      ]
     },
     "execution_count": 37,
     "metadata": {},
     "output_type": "execute_result"
    },
    {
     "data": {
      "text/plain": [
       "set()"
      ]
     },
     "execution_count": 37,
     "metadata": {},
     "output_type": "execute_result"
    },
    {
     "data": {
      "text/plain": [
       "set()"
      ]
     },
     "execution_count": 37,
     "metadata": {},
     "output_type": "execute_result"
    },
    {
     "data": {
      "text/plain": [
       "set()"
      ]
     },
     "execution_count": 37,
     "metadata": {},
     "output_type": "execute_result"
    },
    {
     "data": {
      "text/plain": [
       "set()"
      ]
     },
     "execution_count": 37,
     "metadata": {},
     "output_type": "execute_result"
    },
    {
     "data": {
      "text/plain": [
       "set()"
      ]
     },
     "execution_count": 37,
     "metadata": {},
     "output_type": "execute_result"
    },
    {
     "data": {
      "text/plain": [
       "set()"
      ]
     },
     "execution_count": 37,
     "metadata": {},
     "output_type": "execute_result"
    },
    {
     "data": {
      "text/plain": [
       "set()"
      ]
     },
     "execution_count": 37,
     "metadata": {},
     "output_type": "execute_result"
    },
    {
     "data": {
      "text/plain": [
       "set()"
      ]
     },
     "execution_count": 37,
     "metadata": {},
     "output_type": "execute_result"
    },
    {
     "data": {
      "text/plain": [
       "set()"
      ]
     },
     "execution_count": 37,
     "metadata": {},
     "output_type": "execute_result"
    },
    {
     "data": {
      "text/plain": [
       "set()"
      ]
     },
     "execution_count": 37,
     "metadata": {},
     "output_type": "execute_result"
    },
    {
     "data": {
      "text/plain": [
       "set()"
      ]
     },
     "execution_count": 37,
     "metadata": {},
     "output_type": "execute_result"
    },
    {
     "data": {
      "text/plain": [
       "set()"
      ]
     },
     "execution_count": 37,
     "metadata": {},
     "output_type": "execute_result"
    },
    {
     "data": {
      "text/plain": [
       "set()"
      ]
     },
     "execution_count": 37,
     "metadata": {},
     "output_type": "execute_result"
    },
    {
     "data": {
      "text/plain": [
       "set()"
      ]
     },
     "execution_count": 37,
     "metadata": {},
     "output_type": "execute_result"
    }
   ],
   "source": [
    "import copy\n",
    "forbidden_locs = copy.deepcopy(rock_locs)\n",
    "\n",
    "founders_per_species = 30 # 60\n",
    "n_species = 12\n",
    "init_locs = pick_random_locations(n = founders_per_species*n_species, \n",
    "                                   xrange = [1,grid_width], yrange = [1,grid_height], \n",
    "                                   forbidden_locs = forbidden_locs)\n",
    "\n",
    "spec1_locs = init_locs[1:founders_per_species]\n",
    "spec2_locs = init_locs[founders_per_species+1:founders_per_species*2]\n",
    "spec3_locs = init_locs[founders_per_species*2+1:founders_per_species*3]\n",
    "spec4_locs = init_locs[founders_per_species*3+1:founders_per_species*4]\n",
    "spec5_locs = init_locs[founders_per_species*4+1:founders_per_species*5]\n",
    "spec6_locs = init_locs[founders_per_species*5+1:founders_per_species*6]\n",
    "spec7_locs = init_locs[founders_per_species*6+1:founders_per_species*7]\n",
    "spec8_locs = init_locs[founders_per_species*7+1:founders_per_species*8]\n",
    "spec9_locs = init_locs[founders_per_species*8+1:founders_per_species*9]\n",
    "spec10_locs = init_locs[founders_per_species*9+1:founders_per_species*10]\n",
    "spec11_locs = init_locs[founders_per_species*10+1:founders_per_species*11]\n",
    "spec12_locs = init_locs[founders_per_species*11+1:founders_per_species*12]\n",
    "\n",
    "# Check that there is no overlap (kind of random)\n",
    "set(spec1_locs) & set(spec2_locs)\n",
    "set(spec2_locs) & set(spec3_locs)\n",
    "set(spec1_locs) & set(spec3_locs)\n",
    "set(spec4_locs) & set(spec2_locs)\n",
    "set(spec4_locs) & set(spec3_locs)\n",
    "set(spec5_locs) & set(spec3_locs)\n",
    "set(spec5_locs) & set(spec2_locs)\n",
    "set(spec6_locs) & set(spec3_locs)\n",
    "set(spec6_locs) & set(spec3_locs)\n",
    "set(spec7_locs) & set(spec3_locs)\n",
    "set(spec7_locs) & set(spec3_locs)\n",
    "set(spec8_locs) & set(spec3_locs)\n",
    "set(spec8_locs) & set(spec3_locs)\n",
    "set(spec10_locs) & set(spec3_locs)\n",
    "set(spec11_locs) & set(spec3_locs)\n",
    "#spec3_locs\n",
    "\n",
    "#iMM_locs = pick_random_locations(founders_per_species, [1,grid_width],[1,grid_height], forbidden_locs)\n",
    "#forbidden_locs.extend(iMM_locs)"
   ]
  },
  {
   "cell_type": "code",
   "execution_count": 38,
   "metadata": {},
   "outputs": [],
   "source": [
    "# We set the initial population for each species by using a python list comprehension.\n",
    "\n",
    "NEU_c.initial_pop = [[loc[0],loc[1],1e-8] for loc in spec1_locs]\n",
    "NET_c.initial_pop = [[loc[0],loc[1],1e-8] for loc in spec2_locs]\n",
    "NMU_c.initial_pop = [[loc[0],loc[1],1e-8] for loc in spec3_locs]\n",
    "NOC_c.initial_pop = [[loc[0],loc[1],1e-8] for loc in spec4_locs]\n",
    "NDE_c.initial_pop = [[loc[0],loc[1],1e-8] for loc in spec5_locs]\n",
    "NWI_c.initial_pop = [[loc[0],loc[1],1e-8] for loc in spec6_locs]\n",
    "NHA_c.initial_pop = [[loc[0],loc[1],1e-8] for loc in spec7_locs]\n",
    "NSP_c.initial_pop = [[loc[0],loc[1],1e-8] for loc in spec8_locs]\n",
    "#iPB_c.initial_pop = [[loc[0],loc[1],1e-8] for loc in spec9_locs]\n",
    "#iJO_c.initial_pop = [[loc[0],loc[1],1e-8] for loc in spec10_locs]\n",
    "#iRR_c.initial_pop = [[loc[0],loc[1],1e-8] for loc in spec11_locs]\n",
    "#iJN_c.initial_pop = [[loc[0],loc[1],1e-8] for loc in spec12_locs]"
   ]
  },
  {
   "cell_type": "code",
   "execution_count": 39,
   "metadata": {},
   "outputs": [
    {
     "data": {
      "text/plain": [
       "[[9, 80, 1e-08],\n",
       " [4, 7, 1e-08],\n",
       " [2, 30, 1e-08],\n",
       " [9, 84, 1e-08],\n",
       " [2, 94, 1e-08],\n",
       " [8, 57, 1e-08],\n",
       " [8, 29, 1e-08],\n",
       " [2, 11, 1e-08],\n",
       " [5, 77, 1e-08],\n",
       " [1, 64, 1e-08],\n",
       " [8, 79, 1e-08],\n",
       " [6, 21, 1e-08],\n",
       " [3, 87, 1e-08],\n",
       " [7, 82, 1e-08],\n",
       " [5, 74, 1e-08],\n",
       " [1, 91, 1e-08],\n",
       " [9, 21, 1e-08],\n",
       " [5, 38, 1e-08],\n",
       " [5, 86, 1e-08],\n",
       " [3, 55, 1e-08],\n",
       " [1, 92, 1e-08],\n",
       " [2, 73, 1e-08],\n",
       " [1, 11, 1e-08],\n",
       " [5, 40, 1e-08],\n",
       " [4, 91, 1e-08],\n",
       " [6, 76, 1e-08],\n",
       " [3, 47, 1e-08],\n",
       " [2, 79, 1e-08],\n",
       " [9, 8, 1e-08]]"
      ]
     },
     "execution_count": 39,
     "metadata": {},
     "output_type": "execute_result"
    }
   ],
   "source": [
    "NEU_c.initial_pop"
   ]
  },
  {
   "cell_type": "code",
   "execution_count": 40,
   "metadata": {},
   "outputs": [],
   "source": [
    "NEU_c.write_comets_model(model_dir + '/N_cycle/comets/')\n",
    "NET_c.write_comets_model(model_dir + '/N_cycle/comets/')\n",
    "NMU_c.write_comets_model(model_dir + '/N_cycle/comets/')\n",
    "NOC_c.write_comets_model(model_dir + '/N_cycle/comets/')\n",
    "NDE_c.write_comets_model(model_dir + '/N_cycle/comets/')\n",
    "NWI_c.write_comets_model(model_dir + '/N_cycle/comets/')\n",
    "NHA_c.write_comets_model(model_dir + '/N_cycle/comets/')\n",
    "NSP_c.write_comets_model(model_dir + '/N_cycle/comets/')"
   ]
  },
  {
   "cell_type": "markdown",
   "metadata": {},
   "source": [
    "If we wish to take a look at what locations were chosen, we can easily make an image with matplotlib:"
   ]
  },
  {
   "cell_type": "code",
   "execution_count": null,
   "metadata": {},
   "outputs": [],
   "source": [
    "from matplotlib import pyplot as plt\n",
    "initial_image = np.zeros((grid_height,grid_width,3))\n",
    "for rock in rock_locs:\n",
    "    initial_image[rock[1], rock[0]] = .5\n",
    "for loc in spec1_locs:\n",
    "    initial_image[loc[1],loc[0],0] = 1\n",
    "for loc in spec2_locs:\n",
    "    initial_image[loc[1],loc[0],1] = 1\n",
    "for loc in spec3_locs:\n",
    "    initial_image[loc[1],loc[0],2] = 1\n",
    "\n",
    "initial_image2 = np.zeros((grid_height,grid_width,3))\n",
    "for rock in rock_locs:\n",
    "    initial_image2[rock[1],rock[0],0:3] = 0.5 \n",
    "for loc in spec4_locs:\n",
    "    initial_image2[loc[1],loc[0],0] = 1\n",
    "for loc in spec5_locs:\n",
    "    initial_image2[loc[1],loc[0],1] = 1\n",
    "for loc in spec6_locs:\n",
    "    initial_image2[loc[1],loc[0],2] = 1\n",
    "    \n",
    "initial_image3 = np.zeros((grid_height,grid_width,3))\n",
    "for rock in rock_locs:\n",
    "    initial_image3[rock[1],rock[0],0:3] = 0.5 \n",
    "for loc in spec7_locs:\n",
    "    initial_image3[loc[1],loc[0],0] = 1\n",
    "for loc in spec8_locs:\n",
    "    initial_image3[loc[1],loc[0],1] = 1\n",
    "for loc in spec9_locs:\n",
    "    initial_image3[loc[1],loc[0],2] = 1\n",
    "\n",
    "initial_figure, initial_axis = plt.subplots(1, 3)\n",
    "initial_axis[0].imshow(initial_image)\n",
    "initial_axis[0].set_title(\"species 1-3\")\n",
    "initial_axis[1].imshow(initial_image2)\n",
    "initial_axis[1].set_title(\"species 4-6\")\n",
    "initial_axis[2].imshow(initial_image3)\n",
    "initial_axis[2].set_title(\"species 7-9\")\n",
    "initial_figure.set_figheight(10)\n",
    "initial_figure.set_figwidth(20)\n",
    "plt.show(initial_figure)"
   ]
  },
  {
   "cell_type": "markdown",
   "metadata": {},
   "source": [
    "Add models to the layout."
   ]
  },
  {
   "cell_type": "code",
   "execution_count": null,
   "metadata": {},
   "outputs": [],
   "source": [
    "layout = c.layout()\n",
    "layout.grid = [grid_width,grid_height]\n",
    "layout.add_barriers(rock_locs)\n",
    "model_list = [NEU_c,\n",
    "              NET_c,\n",
    "              NMU_c, \n",
    "              NOC_c, \n",
    "              NDE_c,\n",
    "              NWI_c,\n",
    "              NHA_c,\n",
    "              NSP_c]\n",
    "for mod in model_list:\n",
    "    layout.add_model(mod)"
   ]
  },
  {
   "cell_type": "markdown",
   "metadata": {},
   "source": [
    "We want some metabolites available initially. These include all the typical trace nutrients needed, so we start with the helper function.\n",
    "\n",
    "After that, however, we want oxygen to mostly diffuse from the air, so we set that value lower. We also add a few other trace metabolites homogeneously throughout the environment that were not added with the helper function.\n",
    "\n",
    "To make the air layer, we set static media, which keep that metabolite at a fixed value.  We also set a static level of zero oxygen at the \"bottom,\" to mimic continuous downwards diffusion.\n",
    "In a similar fashion, we set a static sink of ammonium where the “root” is.\n",
    "In contrast to ammonia, which we assume is always entirely consumed by the root, we assume the root drips organic acids and methanol into the environment at fixed rate, so we use a refresh function."
   ]
  },
  {
   "cell_type": "code",
   "execution_count": null,
   "metadata": {},
   "outputs": [],
   "source": [
    "#layout_high_ammonium.add_typical_trace_metabolites()\n",
    "trace_metabolites = ['ca2_e','cl_e','cobalt2_e',\n",
    "                     'cu2_e','fe2_e','fe3_e',\n",
    "                     'h_e','k_e','h2o_e',\n",
    "                     'mg2_e','mn2_e','mobd_e',\n",
    "                     'na1_e','ni2_e',\n",
    "                     'o2_e','pi_e','so4_e','zn2_e']\n",
    "\n",
    "for met in trace_metabolites:\n",
    "    if met in set(layout.media['metabolite']):\n",
    "        layout.set_specific_metabolite(met,1000)\n",
    "\n",
    "layout.set_specific_metabolite('no2_e',.0001)\n",
    "layout.set_specific_metabolite('no3_e',.0001)\n",
    "layout.set_specific_metabolite('co2_e',1000)\n",
    "\n",
    "# set static media of O2 and CO2 at the top and bottom-- the \"air\" and continuous loss of O2 downwards\n",
    "\n",
    "# low o2 most places\n",
    "layout.set_specific_metabolite('o2_e',0.0001) # majority of the soil: low o2\n",
    "\n",
    "#for x in range(grid_width):\n",
    "#    layout.set_specific_static_at_location('o2_e', (x,0), .1) # top\n",
    "#    layout.set_specific_static_at_location('co2_e', (x,0), .0001)\n",
    "#    layout.set_specific_static_at_location('o2_e', (x,grid_height-1), 0.) # bottom: zero, sink for o2\n",
    "#\n",
    "# Sink for ammonium (root)\n",
    "\n",
    "\n",
    "#layout.set_specific_static_at_location('nh4_e', (0,1), 0.0)\n",
    "\n",
    "#for x in range(grid_height):\n",
    "#    layout.set_specific_static_at_location('nh4_e', (0,x), 0.0)\n",
    "    \n",
    "#layout.media = layout.media.reset_index(drop=True)"
   ]
  },
  {
   "cell_type": "code",
   "execution_count": null,
   "metadata": {
    "scrolled": false
   },
   "outputs": [],
   "source": [
    "#layout_high_ammonium.set_specific_metabolite('hco3_e',1000)\n",
    "#layout_high_ammonium.set_specific_metabolite('h2_e',1000)\n",
    "#layout_high_ammonium.set_specific_metabolite('so3_e',1000)\n",
    "#layout_high_ammonium.set_specific_metabolite('glc__D_e',0.0000001)\n",
    "#layout_high_ammonium.set_specific_metabolite('meoh_e',0.00000001)\n",
    "#layout_high_ammonium.set_specific_metabolite('cys__L_e',0.0000001)\n",
    "#layout_high_ammonium.set_specific_metabolite('4abz_e',0.0000001)\n",
    "#layout_high_ammonium.set_specific_metabolite('nac_e',0.00000001)\n",
    "#layout.all_exchanged_mets"
   ]
  },
  {
   "cell_type": "code",
   "execution_count": null,
   "metadata": {},
   "outputs": [],
   "source": [
    "import copy\n",
    "\n",
    "# No ammonium\n",
    "no_ammonium_layout = copy.deepcopy(layout)\n",
    "no_ammonium_layout.set_specific_metabolite('nh4_e',0.00000000001)\n",
    "\n",
    "# Low ammonium \n",
    "low_ammonium_layout = copy.deepcopy(layout)\n",
    "low_ammonium_layout.set_specific_metabolite('nh4_e',0.001)\n",
    "    \n",
    "# Med ammonium\n",
    "med_ammonium_layout = copy.deepcopy(layout)\n",
    "med_ammonium_layout.set_specific_metabolite('nh4_e',10)\n",
    "    \n",
    "# High ammonium\n",
    "high_ammonium_layout = copy.deepcopy(layout)\n",
    "high_ammonium_layout.set_specific_metabolite('nh4_e',40)\n",
    "\n",
    "\n",
    "# Reset indices? Not sure if that's necessary\n",
    "no_ammonium_layout.media = no_ammonium_layout.media.reset_index(drop=True)\n",
    "low_ammonium_layout.media = low_ammonium_layout.media.reset_index(drop=True)\n",
    "med_ammonium_layout.media = med_ammonium_layout.media.reset_index(drop=True)\n",
    "high_ammonium_layout.media = high_ammonium_layout.media.reset_index(drop=True)\n",
    "\n",
    "layout\n",
    "no_ammonium_layout"
   ]
  },
  {
   "cell_type": "code",
   "execution_count": null,
   "metadata": {},
   "outputs": [],
   "source": [
    "#for x in range(grid_height):\n",
    "#    layout.set_specific_refresh_at_location('cit_e', (0,x), .000001)\n",
    "#    layout.set_specific_refresh_at_location('meoh_e', (0,x), .000001)\n",
    "#    layout.set_specific_refresh_at_location('succ_e', (0,x), .000001)"
   ]
  },
  {
   "cell_type": "markdown",
   "metadata": {},
   "source": [
    "We are now done prepping the models and the layout. Next we setup the simulation parameters. Note the positive death rate.\n"
   ]
  },
  {
   "cell_type": "code",
   "execution_count": null,
   "metadata": {},
   "outputs": [],
   "source": [
    "params = c.params()\n",
    "params.set_param('timeStep', .2) # in hours\n",
    "params.set_param('maxCycles', 200)\n",
    "params.set_param('maxSpaceBiomass', 10) # gDW # max biomass allowed per cell\n",
    "params.set_param('deathRate', 0.0001) # die at rate of 1/10000 per hour\n",
    "params.set_param('defaultKm', 0.000001)\n",
    "\n",
    "params.set_param('writeBiomassLog', True)\n",
    "params.set_param('writeTotalBiomassLog', True)\n",
    "params.set_param('writeMediaLog', True)\n",
    "params.set_param(\"writeFluxLog\", True)\n",
    "\n",
    "params.set_param('BiomassLogRate', 200)\n",
    "params.set_param('totalBiomassLogRate', 200)\n",
    "params.set_param('MediaLogRate', 200)\n",
    "params.set_param(\"FluxLogRate\", 200)\n",
    "\n",
    "params.set_param('numRunThreads', 28)\n",
    "#params.set_param(\"writeSpecificMediaLog\", True)\n",
    "params.set_param(\"specificMediaLogRate\", 50) # time steps\n",
    "params.set_param(\"specificMedia\", \"nh4_e,no3_e,no2_e,no3,no2,n2o,no2\") # metabolites to track"
   ]
  },
  {
   "cell_type": "code",
   "execution_count": null,
   "metadata": {
    "scrolled": true
   },
   "outputs": [],
   "source": [
    "sim_no_ammonium = c.comets(no_ammonium_layout, params, relative_dir = \"data/simulation_output/no_ammonium/\" )\n",
    "sim_no_ammonium.run(delete_files=False)"
   ]
  },
  {
   "cell_type": "code",
   "execution_count": null,
   "metadata": {
    "scrolled": true
   },
   "outputs": [],
   "source": [
    "print(sim_no_ammonium.run_output)"
   ]
  },
  {
   "cell_type": "code",
   "execution_count": null,
   "metadata": {
    "scrolled": true
   },
   "outputs": [],
   "source": [
    "sim_low_ammonium = c.comets(low_ammonium_layout, params, relative_dir = \"data/simulation_output/low_ammonium/\" )\n",
    "sim_low_ammonium.run(delete_files=False)"
   ]
  },
  {
   "cell_type": "code",
   "execution_count": null,
   "metadata": {
    "scrolled": true
   },
   "outputs": [],
   "source": [
    "sim_med_ammonium = c.comets(med_ammonium_layout, params, relative_dir = \"data/simulation_output/med_ammonium/\" )\n",
    "sim_med_ammonium.run(delete_files=False)"
   ]
  },
  {
   "cell_type": "code",
   "execution_count": null,
   "metadata": {
    "scrolled": true
   },
   "outputs": [],
   "source": [
    "sim_high_ammonium = c.comets(high_ammonium_layout, params, relative_dir = \"data/simulation_output/high_ammonium/\" )\n",
    "sim_high_ammonium.run(delete_files=False)\n",
    "print(sim_high_ammonium.run_output)"
   ]
  },
  {
   "cell_type": "code",
   "execution_count": null,
   "metadata": {},
   "outputs": [],
   "source": [
    "ax1 = sim_high_ammonium.total_biomass.plot(x = 'cycle')\n",
    "ax1.set_ylabel(\"Biomass (gr.)\")"
   ]
  },
  {
   "cell_type": "code",
   "execution_count": null,
   "metadata": {},
   "outputs": [],
   "source": [
    "ax2 = sim_low_ammonium.total_biomass.plot(x = 'cycle')\n",
    "ax2.set_ylabel(\"Biomass (gr.)\")"
   ]
  },
  {
   "cell_type": "code",
   "execution_count": null,
   "metadata": {
    "scrolled": true
   },
   "outputs": [],
   "source": [
    "media = sim_high_ammonium.get_metabolite_time_series(upper_threshold = 900.)\n",
    "media.plot(x = \"cycle\")\n",
    "plt.ylabel(\"mmol\")"
   ]
  },
  {
   "cell_type": "code",
   "execution_count": null,
   "metadata": {},
   "outputs": [],
   "source": [
    "sim_high_ammonium.total_biomass"
   ]
  },
  {
   "cell_type": "code",
   "execution_count": null,
   "metadata": {},
   "outputs": [],
   "source": [
    "sim_high_ammonium.__build_readable_flux_object()"
   ]
  },
  {
   "cell_type": "markdown",
   "metadata": {},
   "source": [
    "Now we make a simulation object and run it.  This can take awhile."
   ]
  },
  {
   "cell_type": "code",
   "execution_count": null,
   "metadata": {},
   "outputs": [],
   "source": [
    "im = sim_high_ammonium.get_biomass_image('N_europaea_AOB', params.all_params['maxCycles'])\n",
    "im2 = sim_high_ammonium.get_biomass_image('N_eutropha_AOB',params.all_params['maxCycles'])\n",
    "im3 = sim_high_ammonium.get_biomass_image('N_multiformis_AOB',params.all_params['maxCycles'])\n",
    "\n",
    "final1 = np.zeros((grid_height,grid_width,3))\n",
    "final1[:,:,0] = np.transpose(im / np.max(im))\n",
    "final1[:,:,1] = np.transpose(im2 / np.max(im2))\n",
    "final1[:,:,2] = np.transpose(im3 / np.max(im3))\n",
    "#final1[:,:,0] = im / np.max(im)\n",
    "#final1[:,:,1] = im2 / np.max(im2)\n",
    "#final1[:,:,2] = im3 / np.max(im3)\n",
    "for rock in rock_locs:\n",
    "    final1[rock[1]-1,rock[0]-1,0:3] = 0.5 \n",
    "    \n",
    "from matplotlib import pyplot as plt\n",
    "plt.figure(figsize = (60,10))\n",
    "plt.imshow(final1)\n",
    "\n",
    "#N_europaea\"\n",
    "#N_eutropha\"\n",
    "#N_multiformis\"\n",
    "#N_oceani\"\n",
    "#N_defluvii\"\n",
    "#N_winogradskyi\"\n",
    "#N_hamburgensis\"\n",
    "#N_gracilis\""
   ]
  },
  {
   "cell_type": "code",
   "execution_count": null,
   "metadata": {},
   "outputs": [],
   "source": [
    "\n",
    "im4 = sim_high_ammonium.get_biomass_image('N_defluvii_NOB', params.all_params['maxCycles'])\n",
    "im5 = sim_high_ammonium.get_biomass_image('N_hamburgensis_NOB', params.all_params['maxCycles'])\n",
    "im6 = sim_high_ammonium.get_biomass_image('N_winogradskyi_NOB', params.all_params['maxCycles'])\n",
    "\n",
    "final2 = np.zeros((grid_height,grid_width,3))\n",
    "#final2[:,:,0] = im4 / np.max(im4)\n",
    "#final2[:,:,1] = im5 / np.max(im5)\n",
    "#final2[:,:,2] = im6 / np.max(im6)\n",
    "final2[:,:,0] = np.transpose(im4 / np.max(im4))\n",
    "final2[:,:,1] = np.transpose(im5 / np.max(im5))\n",
    "final2[:,:,2] = np.transpose(im6 / np.max(im6))\n",
    "for rock in rock_locs:\n",
    "    final2[rock[1]-1,rock[0]-1,0:3] = 0.5 \n",
    "    \n",
    "from matplotlib import pyplot as plt\n",
    "plt.figure(figsize = (60,10))\n",
    "plt.imshow(final2)"
   ]
  },
  {
   "cell_type": "code",
   "execution_count": null,
   "metadata": {
    "scrolled": false
   },
   "outputs": [],
   "source": [
    "im7 = sim_high_ammonium.get_biomass_image('N_oceani_AOB', params.all_params['maxCycles'])\n",
    "im8 = sim_high_ammonium.get_biomass_image('N_gracilis_NOB', params.all_params['maxCycles'])\n",
    "im9 = sim_high_ammonium.get_biomass_image('P_stutzeri', params.all_params['maxCycles'])\n",
    "\n",
    "final3 = np.zeros((grid_height,grid_width,3))\n",
    "final3[:,:,0] = np.transpose(im7 / np.max(im7))\n",
    "final3[:,:,1] = np.transpose(im8 / np.max(im8))\n",
    "final3[:,:,2] = np.transpose(im9 / np.max(im9))\n",
    "for rock in rock_locs:\n",
    "    final2[rock[1]-1,rock[0]-1,0:3] = 0.5 \n",
    "    \n",
    "from matplotlib import pyplot as plt\n",
    "plt.figure(figsize = (60,10))\n",
    "plt.imshow(final3)"
   ]
  },
  {
   "cell_type": "markdown",
   "metadata": {},
   "source": [
    "Below here, we show a handful of metabolites. "
   ]
  },
  {
   "cell_type": "code",
   "execution_count": null,
   "metadata": {},
   "outputs": [],
   "source": [
    "figure, axis = plt.subplots(1, 4)\n",
    "axis[0].imshow(np.transpose(sim_high_ammonium.get_metabolite_image(\"nh4_e\",params.all_params['maxCycles'])))\n",
    "axis[0].set_title(\"nh4\")\n",
    "axis[1].imshow(np.transpose(sim_high_ammonium.get_metabolite_image(\"o2_e\",params.all_params['maxCycles'])))\n",
    "axis[0].set_title(\"o2\")\n",
    "axis[2].imshow(np.transpose(sim_high_ammonium.get_metabolite_image(\"co2_e\",params.all_params['maxCycles'])))\n",
    "axis[0].set_title(\"co2\")\n",
    "axis[3].imshow(np.transpose(sim_high_ammonium.get_metabolite_image(\"succ_e\",params.all_params['maxCycles'])))\n",
    "axis[0].set_title(\"succ_e\")\n",
    "plt.figure(figsize = (100,50))\n",
    "plt.show()"
   ]
  },
  {
   "cell_type": "code",
   "execution_count": null,
   "metadata": {},
   "outputs": [],
   "source": [
    "figure, axis = plt.subplots(1, 4)\n",
    "axis[0].imshow(np.transpose(sim_low_ammonium.get_metabolite_image(\"nh4_e\",params.all_params['maxCycles'])))\n",
    "axis[0].set_title(\"nh4\")\n",
    "axis[1].imshow(np.transpose(sim_low_ammonium.get_metabolite_image(\"o2_e\",params.all_params['maxCycles'])))\n",
    "axis[0].set_title(\"o2\")\n",
    "axis[2].imshow(np.transpose(sim_low_ammonium.get_metabolite_image(\"co2_e\",params.all_params['maxCycles'])))\n",
    "axis[0].set_title(\"co2\")\n",
    "axis[3].imshow(np.transpose(sim_low_ammonium.get_metabolite_image(\"succ_e\",params.all_params['maxCycles'])))\n",
    "axis[0].set_title(\"succ_e\")\n",
    "plt.figure(figsize = (100,50))\n",
    "plt.show()"
   ]
  }
 ],
 "metadata": {
  "kernelspec": {
   "display_name": "Python 3",
   "language": "python",
   "name": "python3"
  },
  "language_info": {
   "codemirror_mode": {
    "name": "ipython",
    "version": 3
   },
   "file_extension": ".py",
   "mimetype": "text/x-python",
   "name": "python",
   "nbconvert_exporter": "python",
   "pygments_lexer": "ipython3",
   "version": "3.8.10"
  }
 },
 "nbformat": 4,
 "nbformat_minor": 4
}
